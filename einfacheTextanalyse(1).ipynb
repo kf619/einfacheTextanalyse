{
 "cells": [
  {
   "cell_type": "markdown",
   "id": "4af65e60",
   "metadata": {},
   "source": [
    "# Starten wir"
   ]
  },
  {
   "cell_type": "code",
   "execution_count": null,
   "id": "05d623b1",
   "metadata": {},
   "outputs": [],
   "source": [
    "# Dieses Notebook fasst Programmiercode und Erklärungen zusammen. \n",
    "# Damit der Computer die Erklärungen nicht auch als Programm auffässt und diese ausführen will, \n",
    "# was zu Fehlermeldungen führen würde, da diese nicht der Sprache entsprechen, die er interpretieren kann,\n",
    "# sind Kommentare oder Erläuterungen hier und in der Programmierung an sich meist mit einem # versehen.\n",
    "# So ignoriert der Computer diese Zeilen und führt nur den \"eigentlichen\" Code (ohne einem # davor) aus."
   ]
  },
  {
   "cell_type": "code",
   "execution_count": null,
   "id": "f9a3ec03",
   "metadata": {},
   "outputs": [],
   "source": [
    "# Falls du dies einmal ausprobieren möchtest, markiere die folgende Zeile (gehe auf sie, sodass sie \n",
    "# vorn am Anfang blau hervorgehoben ist) und drücke dann oben auf Run."
   ]
  },
  {
   "cell_type": "code",
   "execution_count": null,
   "id": "688ae440",
   "metadata": {},
   "outputs": [],
   "source": [
    "Hier probiere ich einen Befehl aus, den der Computer so nicht auffassen kann."
   ]
  },
  {
   "cell_type": "code",
   "execution_count": null,
   "id": "8f3509df",
   "metadata": {},
   "outputs": [],
   "source": [
    "# Als Rückmeldung erhälst du SyntaxError - was bedeuet, dass der Computer diese Anweisung nicht entschlüsseln kann."
   ]
  },
  {
   "cell_type": "code",
   "execution_count": null,
   "id": "6d8a9987",
   "metadata": {},
   "outputs": [],
   "source": [
    "# Weiter geht`s.\n",
    "\n",
    "# Es ist wichtig, dass du dieses Notebook NACHEINANDER ausführst. Gehe also von oben nach unten vor.\n",
    "# Wenn du weiter unten einen Befehl ausführst, für den die notwendigen Befehle davor nicht ausgeführt wurden,\n",
    "# wird dir eine Fehlermeldung ausgegeben.\n",
    "# Wichtig ist auch, wenn du das Notebook schließt und dann wieder öffnest, wieder von vorn zu beginnen.\n",
    "\n",
    "# Immer wenn der Computer arbeitet und einen Befehl ausführt, steht vor der Zeile in den [] ein *.\n",
    "# Sobald dieses verschwindet, ist der Befehl erfolgreich ausgeführt.\n",
    "# Falls das nicht geklappt haben sollte, erhälst du eine Fehlermeldung."
   ]
  },
  {
   "cell_type": "markdown",
   "id": "29151fc8",
   "metadata": {},
   "source": [
    "# Beispiel: Analyse der Märchen der Brüder Grimm "
   ]
  },
  {
   "cell_type": "code",
   "execution_count": null,
   "id": "14913547",
   "metadata": {},
   "outputs": [],
   "source": [
    "# Kommen wir nun zu unserem Beispiel - der Analyse der Grimm`schen Märchen.\n",
    "\n",
    "# Zuerst benötigen wir die Texte der Grimm`schen Märchen.\n",
    "# Es gibt viele Textsammlungen im Internet, die wissenschaftlich ausgebaut wurden.\n",
    "# Eine bekannte ist das DTA - das Deutsche Textarchiv, dass tausende Texte aus Literatur, Wissenschaft oder Belletristik\n",
    "# bereitstellt - häufig sogar als Originalausgaben. \n",
    "# Das ermöglicht es, auch sehr alte Werke virtuell zu erkunden.\n",
    "# Neben dem Scan der ursprünglichen Inhaltsseiten (also der digtial-bildlichen Archivierung dieser Werke) \n",
    "# sind auch die Textdaten in verschiedenen Formaten archiviert. \n",
    "# Mit ihnen kann man weiterarbeiten und diese computerbasiert analysieren. \n",
    "\n",
    "# Falls ihr euch einmal selbst auf der Seite des DTA´s umsehen wollt, geht zu https://www.deutschestextarchiv.de/"
   ]
  },
  {
   "cell_type": "markdown",
   "id": "5fd1a123",
   "metadata": {},
   "source": [
    "# Notwendige Voraussetzungen"
   ]
  },
  {
   "cell_type": "code",
   "execution_count": null,
   "id": "ba6402ff",
   "metadata": {},
   "outputs": [],
   "source": [
    "# Die Texte, die wir benötigen sind die Kinder- und Hausmärchen der Brüder Grimm, Teil 1 und Teil 2.\n",
    "\n",
    "# Die Texte befinden sich hier:\n",
    "# https://www.deutschestextarchiv.de/book/show/grimm_maerchen01_1857\n",
    "# https://www.deutschestextarchiv.de/book/show/grimm_maerchen02_1857"
   ]
  },
  {
   "cell_type": "code",
   "execution_count": null,
   "id": "5af78009",
   "metadata": {},
   "outputs": [],
   "source": [
    "# Diese Daten müssen für die Analyse in einem bestimmten Format vorliegen. \n",
    "# Damit wir sie hier ohne Probleme einbinden können, habe ich die lesbaren Daten in einem Ordner abgelegt, \n",
    "# auf den mit den unteren Befehlen zugegriffen werden kann."
   ]
  },
  {
   "cell_type": "code",
   "execution_count": null,
   "id": "abe4302a",
   "metadata": {},
   "outputs": [],
   "source": [
    "# Weiterhin benötigen wir sogenannte Infrastrukturen - das sind Pakete oder Bibliotheken, \n",
    "# die vorprgrammiert sind und uns einige Befehle einfacher ausführen lassen. \n",
    "# Durch sie kann beispielsweise ermöglicht werden, mathematische Operationen einfach durchzuführen oder\n",
    "# Dateien zu laden, damit mit ihnen weitergearbeitet werden kann."
   ]
  },
  {
   "cell_type": "code",
   "execution_count": null,
   "id": "5c806a68",
   "metadata": {},
   "outputs": [],
   "source": [
    "# Führe die nächsten Zeilen aus, indem du auf sie gehst, bis sie vorn blau markiert sind.\n",
    "# Wenn sie blau markiert sind, drücke oben auf den Button Run.\n",
    "# Gehe jeweils zur nächsten Zeile, wenn das * zwischen den [] verschwunden ist.\n",
    "\n",
    "# Die Befehle pip install installieren die jeweiligen Infrastrukturen \n",
    "# und die Befehle import rufen diese auf, damit wir sie nutzen können."
   ]
  },
  {
   "cell_type": "code",
   "execution_count": null,
   "id": "97999abe",
   "metadata": {},
   "outputs": [],
   "source": [
    "!pip install requests\n",
    "import requests"
   ]
  },
  {
   "cell_type": "code",
   "execution_count": null,
   "id": "0269d283",
   "metadata": {},
   "outputs": [],
   "source": [
    "!pip install scikit-learn\n",
    "from sklearn.feature_extraction.text import TfidfVectorizer\n",
    "from sklearn.metrics.pairwise import cosine_similarity"
   ]
  },
  {
   "cell_type": "code",
   "execution_count": null,
   "id": "8eee7c23",
   "metadata": {},
   "outputs": [],
   "source": [
    "from collections import Counter"
   ]
  },
  {
   "cell_type": "code",
   "execution_count": null,
   "id": "8298a172",
   "metadata": {},
   "outputs": [],
   "source": [
    "import string"
   ]
  },
  {
   "cell_type": "code",
   "execution_count": null,
   "id": "fccf3f32",
   "metadata": {},
   "outputs": [],
   "source": [
    "!pip install pandas\n",
    "import pandas as pd"
   ]
  },
  {
   "cell_type": "code",
   "execution_count": null,
   "id": "1bde835b",
   "metadata": {},
   "outputs": [],
   "source": [
    "!pip install gensim nltk\n",
    "from gensim import corpora, models\n",
    "from nltk.tokenize import word_tokenize\n",
    "import nltk\n",
    "nltk.download('punkt') "
   ]
  },
  {
   "cell_type": "code",
   "execution_count": null,
   "id": "44fff6f9",
   "metadata": {},
   "outputs": [],
   "source": [
    "!pip install wordcloud\n",
    "from wordcloud import WordCloud"
   ]
  },
  {
   "cell_type": "code",
   "execution_count": null,
   "id": "1f3fe56c",
   "metadata": {},
   "outputs": [],
   "source": [
    "!pip install matplotlib\n",
    "import matplotlib.pyplot as plt"
   ]
  },
  {
   "cell_type": "code",
   "execution_count": null,
   "id": "21c9cf68",
   "metadata": {},
   "outputs": [],
   "source": [
    "# Laden wir uns nun noch die Kinder- und Hausmärchen der Brüder Grimm - Band 1 und 2. \n",
    "# Sie liegen auf der Instanz GitHub, die kostenfrei das Teilen von Programmierressourcen ermöglicht.\n",
    "\n",
    "# Führe die nächste Zeile aus, indem du auf sie gehst, bis sie vorn blau markiert ist.\n",
    "# Wenn sie blau markiert ist, drücke oben auf den Button Run.\n",
    "\n",
    "# Wir weisen hier unsere Dateien, die sich unter dem angegebenen Pfad befinden, einer Variable (je url1 und url2) zu. "
   ]
  },
  {
   "cell_type": "code",
   "execution_count": null,
   "id": "da1fd426",
   "metadata": {},
   "outputs": [],
   "source": [
    "url1 = 'https://raw.githubusercontent.com/kf619/einfacheTextanalyse/main/data/grimm_maerchen01_1857.txt'\n",
    "url2 = 'https://raw.githubusercontent.com/kf619/einfacheTextanalyse/main/data/grimm_maerchen02_1857.txt'"
   ]
  },
  {
   "cell_type": "markdown",
   "id": "b49dc2c6",
   "metadata": {},
   "source": [
    "# Laden der Texte"
   ]
  },
  {
   "cell_type": "code",
   "execution_count": null,
   "id": "aedb938c",
   "metadata": {},
   "outputs": [],
   "source": [
    "# Nun wissen wir zwar, wo sich unsere Texte befinden, wir konnten sie aber noch nicht ansehen.\n",
    "# Wir müssen sie zunächst in unser Notebook laden.\n",
    "# Dazu verwenden wir den folgenden Code, der festlegt, dass über die URLs die Texte geladen werden.\n",
    "\n",
    "# Führe die nächste Zeile aus, indem du auf sie gehst, bis sie vorn blau markiert ist.\n",
    "# Wenn sie blau markiert ist, drücke oben auf den Button Run."
   ]
  },
  {
   "cell_type": "code",
   "execution_count": null,
   "id": "089b551b",
   "metadata": {},
   "outputs": [],
   "source": [
    "text1 = requests.get(url1).text\n",
    "text2 = requests.get(url2).text"
   ]
  },
  {
   "cell_type": "code",
   "execution_count": null,
   "id": "a653706e",
   "metadata": {},
   "outputs": [],
   "source": [
    "# Schauen wir uns url1 bzw. text1 - die Grimm`schen Hausmärchen Teil 1 und url2 bzw. text2 Teil 2 der Sammlung an. \n",
    "\n",
    "# Führe die nächste Zeile aus, indem du auf sie gehst, bis sie vorn blau markiert ist.\n",
    "# Wenn sie blau markiert ist, drücke oben auf den Button Run. \n",
    "# Darunter werden dir nun viele Zeichen angezeigt, die Inhalte aus den Märchen, in einem etwas anderen Format."
   ]
  },
  {
   "cell_type": "code",
   "execution_count": null,
   "id": "1a45d6cc",
   "metadata": {
    "scrolled": true
   },
   "outputs": [],
   "source": [
    "text1\n",
    "text2"
   ]
  },
  {
   "cell_type": "code",
   "execution_count": null,
   "id": "032d57f7",
   "metadata": {},
   "outputs": [],
   "source": [
    "# Super, das hat gut geklappt. \n",
    "# Der wichtigste Grundstein ist gelegt.\n",
    "\n",
    "# Weiter geht`s mit der Vorverarbeitung der Textdaten, die wichtig ist, damit der Computer den Text verarbeiten kann,\n",
    "# ohne, dass wir Fehlermeldungen ausgegeben bekommen.\n",
    "# Wie du oben siehst, sind ja einige Zeichen in den Texten enthalten, die wir nicht brauchen."
   ]
  },
  {
   "cell_type": "markdown",
   "id": "243f29e4",
   "metadata": {},
   "source": [
    "# Vorverarbeitung und Vorbereitung der Textdaten für die Analyse"
   ]
  },
  {
   "cell_type": "code",
   "execution_count": null,
   "id": "0e68552e",
   "metadata": {},
   "outputs": [],
   "source": [
    "# Wir müssen zunächst die Texte auf Kleinschreibung vereinheitlichen, damit der Computer diese besser lesen kann.\n",
    "\n",
    "# Außerdem führen wir ein sogenanntes Preprocessing durch - eine Vorverarbeitung. Dabei werden \n",
    "# Sonderzeichen wie ,#*!& usw. gelöscht, da diese uns für unsere inhaltliche Analyse nicht sehr nützlich sind.\n",
    "\n",
    "# Da, vor allem in Märchen, zahlreiche Füllwörter wie Präpositionen, Adverben, Konjunktionen oder Partikel verwendet werden,\n",
    "# sollten wir auch diese eliminieren. Sie geben uns nur wenig Aufschluss hinsichtlich des Inhalts.\n",
    "# Dies erledigen wir über eine sogenannte Stop-words-Liste - Wörter, die wir nicht benötigen. \n",
    "# Der Computer stoppt also bei den Wörtern aus der Liste und bezieht sie nicht mit in die Analyse ein.\n",
    "# Sie kann hier individuell angepasst werden, es gibt aber auch bereits vorgefertigte Listen in anderen Sprachen.\n",
    "\n",
    "# Führe die nächsten Zeilen aus, indem du auf sie gehst, bis sie vorn blau markiert sind.\n",
    "# Wenn sie blau markiert sind, drücke oben auf den Button Run. \n",
    "# Wenn dir keine Fehlermeldung ausgegeben wird, hast du alles richtig gemacht. "
   ]
  },
  {
   "cell_type": "code",
   "execution_count": null,
   "id": "595c69ea",
   "metadata": {},
   "outputs": [],
   "source": [
    "def preprocess_text(text, stop_words):\n",
    "   \n",
    "    text = text.lower()\n",
    "    \n",
    "    text = ''.join(char for char in text if char.isalpha() or char.isspace())\n",
    "    \n",
    "    words = text.split() \n",
    "    words = [word for word in words if word not in stop_words] \n",
    "    \n",
    "    return ' '.join(words) \n",
    "\n",
    "german_stop_words = [\n",
    "    'aber', 'alle', 'allem', 'allen', 'aller', 'alles', 'als', 'also', 'am', 'an', 'ander', 'andere', 'anderem',\n",
    "    'anderen', 'anderer', 'anderes', 'anderm', 'andern', 'anderr', 'anders', 'auch', 'auf', 'aus', 'bei', 'bin',\n",
    "    'bis', 'bist', 'da', 'damit', 'dann', 'das', 'dasselbe', 'dazu', 'daß', 'de', 'dein', 'deine', 'deinem', 'deinen',\n",
    "    'deiner', 'deines', 'dem', 'demselben', 'den', 'denn', 'denselben', 'der', 'derer', 'derselbe', 'derselben',\n",
    "    'des', 'desselben', 'dessen', 'dich', 'die', 'dies', 'diese', 'dieselbe', 'dieselben', 'diesem', 'diesen',\n",
    "    'dieser', 'dieses', 'dir', 'do' , 'doch', 'dort', 'du', 'durch', 'ein', 'eine', 'einem', 'einen', 'einer', 'eines',\n",
    "    'einig', 'einige', 'einigem', 'einigen', 'einiger', 'einiges', 'einmal', 'er', 'es', 'etwas', 'euch', 'euer',\n",
    "    'eure', 'eurem', 'euren', 'eurer', 'eures', 'für', 'gegen', 'gewesen', 'hab', 'habe', 'haben', 'hat', 'hatte',\n",
    "    'hatten', 'he', 'hier', 'hin', 'hinter', 'ich', 'ihm', 'ihn', 'ihnen', 'ihr', 'ihre', 'ihrem', 'ihren', 'ihrer',\n",
    "    'ihres', 'im', 'in', 'indem', 'ins', 'ist', 'jede', 'jedem', 'jeden', 'jeder', 'jedes', 'jene', 'jenem',\n",
    "    'jenen', 'jener', 'jenes', 'jetzt', 'kann', 'kein', 'keine', 'keinem', 'keinen', 'keiner', 'keines', 'können',\n",
    "    'könnte', 'machen', 'man', 'manche', 'manchem', 'manchen', 'mancher', 'manches', 'mein', 'meine', 'meinem',\n",
    "    'meinen', 'meiner', 'meines', 'mit', 'muss', 'musste', 'nach', 'nicht', 'nichts', 'noch', 'nun', 'nur', 'ob',\n",
    "    'oder', 'ohne', 'se', 'sehr', 'sein', 'seine', 'seinem', 'seinen', 'seiner', 'seines', 'selbst', 'sich', 'sie',\n",
    "    'sind', 'so', 'solche', 'solchem', 'solchen', 'solcher', 'solches', 'soll', 'sollte', 'sondern', 'sonst',\n",
    "    'über', 'um', 'un' , 'und', 'uns', 'unser', 'unsere', 'unserem', 'unseren', 'unseres', 'unter', 'viel', 'vom', 'von',\n",
    "    'vor', 'während', 'war', 'waren', 'warst', 'was', 'weg', 'weil', 'weiter', 'welche', 'welchem', 'welchen',\n",
    "    'welcher', 'welches', 'wenn', 'werde', 'werden', 'wie', 'wieder', 'will', 'wir', 'wird', 'wirst', 'wo', 'wollen',\n",
    "    'wollte', 'würde', 'würden', 'zu', 'zum', 'zur', 'zwar', 'zwischen'\n",
    "]\n",
    "\n",
    "preprocessed_text1 = preprocess_text(text1, german_stop_words)\n",
    "preprocessed_text2 = preprocess_text(text2, german_stop_words)\n"
   ]
  },
  {
   "cell_type": "code",
   "execution_count": null,
   "id": "e6996d11",
   "metadata": {},
   "outputs": [],
   "source": [
    "# Schauen wir uns an, ob es funktioniert hat.\n",
    "\n",
    "# Führe die nächsten Zeilen aus, indem du auf sie gehst, bis sie vorn blau markiert sind.\n",
    "# Wenn sie blau markiert sind, drücke oben auf den Button Run.\n",
    "\n",
    "# Darunter müssten dir nun beide Texte in einer etwas anderen Form ausgegeben werden."
   ]
  },
  {
   "cell_type": "code",
   "execution_count": null,
   "id": "a9efb4be",
   "metadata": {},
   "outputs": [],
   "source": [
    "print(preprocessed_text1)  \n",
    "print(preprocessed_text2)  "
   ]
  },
  {
   "cell_type": "code",
   "execution_count": null,
   "id": "a648e712",
   "metadata": {},
   "outputs": [],
   "source": [
    "# Nun sind alle Vorbereitungen getroffen. \n",
    "# Wir können mit der eigentlichen Analyse beginnen."
   ]
  },
  {
   "cell_type": "markdown",
   "id": "4a5ab820",
   "metadata": {},
   "source": [
    "# Analyse"
   ]
  },
  {
   "cell_type": "code",
   "execution_count": null,
   "id": "7b1e74c7",
   "metadata": {},
   "outputs": [],
   "source": [
    "# Wir werden uns zuerst eine Liste von Begriffen ausgeben lassen, die häufig in den beiden Textsammlungen\n",
    "# vorkommen. So können wir sie charakterisieren. \n",
    "\n",
    "# Dazu führen wir zuerst eine Analyse der Häufigkeiten von Begriffen in den einzelnen Märchen der zwei Bände\n",
    "# sowie die Analyse der zwei Bände im Verhältnis aus.\n",
    "\n",
    "# Führe die nächsten Zeilen aus, indem du auf sie gehst, bis sie vorn blau markiert sind.\n",
    "# Wenn sie blau markiert sind, drücke oben auf den Button Run.\n",
    "# Gehe nacheinander vor und jeweils zur nächsten Zeile, wenn das * zwischen den [] verschwunden ist."
   ]
  },
  {
   "cell_type": "code",
   "execution_count": null,
   "id": "7526137a",
   "metadata": {},
   "outputs": [],
   "source": [
    "texts = [preprocessed_text1, preprocessed_text2]"
   ]
  },
  {
   "cell_type": "code",
   "execution_count": null,
   "id": "50abdbaa",
   "metadata": {},
   "outputs": [],
   "source": [
    "vectorizer = TfidfVectorizer()\n",
    "tfidf_matrix = vectorizer.fit_transform(texts)"
   ]
  },
  {
   "cell_type": "code",
   "execution_count": null,
   "id": "1aa8fad1",
   "metadata": {},
   "outputs": [],
   "source": [
    "feature_names = vectorizer.get_feature_names_out()\n",
    "df_tfidf = pd.DataFrame(tfidf_matrix.T.toarray(), index=feature_names, columns=['preprocessed_text1', 'preprocessed_text2'])"
   ]
  },
  {
   "cell_type": "code",
   "execution_count": null,
   "id": "ae756d71",
   "metadata": {},
   "outputs": [],
   "source": [
    "def get_top_keywords(tfidf_df, text_name, top_n=25):\n",
    "    sorted_items = tfidf_df[text_name].sort_values(ascending=False)\n",
    "    return sorted_items.head(top_n)"
   ]
  },
  {
   "cell_type": "code",
   "execution_count": null,
   "id": "4943235a",
   "metadata": {},
   "outputs": [],
   "source": [
    "top_keywords_text1 = get_top_keywords(df_tfidf, 'preprocessed_text1')\n",
    "top_keywords_text2 = get_top_keywords(df_tfidf, 'preprocessed_text2')"
   ]
  },
  {
   "cell_type": "code",
   "execution_count": null,
   "id": "6c5cc183",
   "metadata": {},
   "outputs": [],
   "source": [
    "# Keine Fehlermeldung bis hierher? Super!\n",
    "# Schauen wir uns die 25 häufigsten Begriffe aus den beiden Märchen-Bänden an. \n",
    "\n",
    "# Führe die nächsten Zeilen aus, indem du auf sie gehst, bis sie vorn blau markiert sind.\n",
    "# Wenn sie blau markiert sind, drücke oben auf den Button Run."
   ]
  },
  {
   "cell_type": "code",
   "execution_count": null,
   "id": "cf48a6f5",
   "metadata": {},
   "outputs": [],
   "source": [
    "print(\"Top-Schlüsselwörter für Märchen Band 1:\")\n",
    "print(top_keywords_text1)\n",
    "\n",
    "\n",
    "print(\"Top-Schlüsselwörter für Märchen Band 2:\")\n",
    "print(top_keywords_text2)"
   ]
  },
  {
   "cell_type": "code",
   "execution_count": null,
   "id": "29b0f577",
   "metadata": {},
   "outputs": [],
   "source": [
    "# Wir vernachlässigen einmal die Verben, die sich um das Thema Sprechen, Antworten und Kommunizieren drehen und \n",
    "# schauen uns die Substantive genauer an:\n",
    "\n",
    "# In Band 1 tauchen die Begriffe König, Frau, Mann, Haus, Vater und Mädchen häufig auf.\n",
    "# In Band 2 die Begriffe König, Mann, Alte, Vater, Frau, Haus. \n",
    "\n",
    "# Das könnte bedeuten, dass im Band 1 der Kinder- und Hausmärchen eher Kinder oder Jugendliche (da Mädchen)\n",
    "# und im Band 2 der Kinder- und Hausmärchen eher Erwachsene (da Alte) in den jeweiligen Märchen thematisiert werden."
   ]
  },
  {
   "cell_type": "code",
   "execution_count": null,
   "id": "cf195927",
   "metadata": {},
   "outputs": [],
   "source": [
    "# Wir wollen uns das einmal grafisch ausgeben lassen.\n",
    "# So können wir auch ein Gefühl für deren Wichtigkeit erlangen. \n",
    "# Wir erstellen uns eine sogenannte Wordcloud, die diese Begriffe beinhaltet.\n",
    "\n",
    "# Führe die nächsten Zeilen aus, indem du auf sie gehst, bis sie vorn blau markiert sind.\n",
    "# Wenn sie blau markiert sind, drücke oben auf den Button Run."
   ]
  },
  {
   "cell_type": "code",
   "execution_count": null,
   "id": "b320cd3b",
   "metadata": {},
   "outputs": [],
   "source": [
    "Band1 = ['könig', 'frau', 'mann', 'haus', 'vater', 'mädchen']\n",
    "wordcloud_Band1= WordCloud(width=800, height=400, background_color='white').generate(' '.join(Band1))"
   ]
  },
  {
   "cell_type": "code",
   "execution_count": null,
   "id": "140909de",
   "metadata": {},
   "outputs": [],
   "source": [
    "# nun die Ausgabe:"
   ]
  },
  {
   "cell_type": "code",
   "execution_count": null,
   "id": "678ceddc",
   "metadata": {},
   "outputs": [],
   "source": [
    "plt.figure(figsize=(10, 5))\n",
    "plt.imshow(wordcloud_Band1, interpolation='bilinear')\n",
    "plt.axis('off')\n",
    "plt.show()"
   ]
  },
  {
   "cell_type": "code",
   "execution_count": null,
   "id": "a2b35f98",
   "metadata": {},
   "outputs": [],
   "source": [
    "# und noch einmal für die zentralen Begriffe aus dem 2. Band der Märchensammlung"
   ]
  },
  {
   "cell_type": "code",
   "execution_count": null,
   "id": "f3cb4242",
   "metadata": {},
   "outputs": [],
   "source": [
    "Band2 = ['könig', 'mann', 'alte', 'vater', 'frau', 'haus']\n",
    "wordcloud_Band2 = WordCloud(width=800, height=400, background_color='white').generate(' '.join(Band2))"
   ]
  },
  {
   "cell_type": "code",
   "execution_count": null,
   "id": "77da770d",
   "metadata": {},
   "outputs": [],
   "source": [
    "# und die Ausgabe:"
   ]
  },
  {
   "cell_type": "code",
   "execution_count": null,
   "id": "61e0d8e0",
   "metadata": {},
   "outputs": [],
   "source": [
    "plt.figure(figsize=(10, 5))\n",
    "plt.imshow(wordcloud_Band2, interpolation='bilinear')\n",
    "plt.axis('off')\n",
    "plt.show()"
   ]
  },
  {
   "cell_type": "code",
   "execution_count": null,
   "id": "6ab50a58",
   "metadata": {},
   "outputs": [],
   "source": [
    "# Wir sehen in diesen Wordclouds wichtige Begriffe der jeweiligen Textsammlung. \n",
    "# Dies muss natürlich immer interpretiert werden, aber wir haben nun einen ersten Eindruck, dass sich die beiden\n",
    "# Bände der Märchen inhaltlich sehr ähneln (was auch naheliegt, da sie von den gleichen Autoren stammen),\n",
    "# aber es gibt auch Punkte, wo sie sich unterscheiden."
   ]
  },
  {
   "cell_type": "code",
   "execution_count": null,
   "id": "e5c632af",
   "metadata": {},
   "outputs": [],
   "source": [
    "# Dies war noch kein Maschinelles Lernen, aber eine gute Option, einen Eindruck der beiden Texte zu erhalten.\n",
    "# Überprüfen wir nun also, aus welchem Band unsere beiden Textauszüge stammen könnten. "
   ]
  },
  {
   "cell_type": "markdown",
   "id": "d8a82de8",
   "metadata": {},
   "source": [
    "# Nun lassen wir uns vorhersagen, aus welcher Textsammlung unser Auszug stammt"
   ]
  },
  {
   "cell_type": "code",
   "execution_count": null,
   "id": "0bbae968",
   "metadata": {},
   "outputs": [],
   "source": [
    "# Wir führen im Folgenden die Berechnung der Gleichheit unseres Textauszugs mit den zwei Märchenbänden durch.\n",
    "\n",
    "# Dazu benutzen wir unsere vorverarbeiteten Texte (preprocessed_text1 und preprocessed_text2) und geben sie\n",
    "# dem Computer zum Lernen der Strukturen ein. \n",
    "# Dann verwenden wir unseren Textauszug (neuer_text) und verarbeiten ihn ebenfalls vor.\n",
    "# Mit der Berechnung der Kosinus-Gleichheit (cosine_similarity) berechnet der Computer dann, \n",
    "# mit welcher Wahrscheinlichkeit unser Textauszug eher zur Textsammlung 1 oder 2 gehören kann. \n",
    "\n",
    "# Führe die nächsten Zeilen aus, indem du auf sie gehst, bis sie vorn blau markiert sind.\n",
    "# Wenn sie blau markiert sind, drücke oben auf den Button Run.\n",
    "# Gehe nacheinander vor und jeweils zur nächsten Zeile, wenn das * zwischen den [] verschwunden ist."
   ]
  },
  {
   "cell_type": "code",
   "execution_count": null,
   "id": "6a5c5504",
   "metadata": {},
   "outputs": [],
   "source": [
    "vectorizer = TfidfVectorizer()\n",
    "tfidf_matrix_text1 = vectorizer.fit_transform([preprocessed_text1])\n",
    "tfidf_matrix_text2 = vectorizer.transform([preprocessed_text2])"
   ]
  },
  {
   "cell_type": "code",
   "execution_count": null,
   "id": "009a1c26",
   "metadata": {},
   "outputs": [],
   "source": [
    "neuer_text = \"Der Fuchs kam einmal auf eine Wiese, wo eine Herde schöner fetter Gänse saß, da lachte er und sprach ‘ich komme ja wie gerufen, ihr sitzt hübsch beisammen, so kann ich eine nach der andern auffressen.’ Die Gänse gackerten vor Schrecken, sprangen auf, fiengen an zu jammern und kläglich um ihr Leben zu bitten. Der Fuchs aber wollte auf nichts hören und sprach ‘da ist keine Gnade, ihr müßt sterben.’ Endlich nahm sich eine das Herz und sagte ‘sollen wir armen Gänse doch einmal unser jung frisch Leben lassen, so erzeige uns die einzige Gnade und erlaub uns noch ein Gebet, damit wir nicht in unsern Sünden sterben: hernach wollen wir uns auch in eine Reihe stellen, damit du dir immer die fetteste aussuchen kannst.’ ‘Ja,’ sagte der Fuchs, ‘das ist billig, und ist eine fromme Bitte: betet, ich will so lange warten.’ Also fieng die erste ein recht langes Gebet an, immer ‘ga! ga!’ und weil sie gar nicht aufhören wollte, wartete die zweite nicht, bis die Reihe an sie kam, sondern fieng auch an ‘ga! ga!’ Die dritte und vierte folgte ihr, und bald gackerten sie alle zusammen. (Und wenn sie ausgebetet haben, soll das Märchen weiter erzählt werden, sie beten aber alleweile noch immer fort.)\""
   ]
  },
  {
   "cell_type": "code",
   "execution_count": null,
   "id": "f796515b",
   "metadata": {},
   "outputs": [],
   "source": [
    "preprocessed_neuer_text = preprocess_text(neuer_text, german_stop_words)"
   ]
  },
  {
   "cell_type": "code",
   "execution_count": null,
   "id": "98c5855b",
   "metadata": {},
   "outputs": [],
   "source": [
    "tfidf_matrix_neuer_text = vectorizer.transform([preprocessed_neuer_text])"
   ]
  },
  {
   "cell_type": "code",
   "execution_count": null,
   "id": "735216a1",
   "metadata": {},
   "outputs": [],
   "source": [
    "similarity_to_text1 = cosine_similarity(tfidf_matrix_neuer_text, tfidf_matrix_text1)\n",
    "similarity_to_text2 = cosine_similarity(tfidf_matrix_neuer_text, tfidf_matrix_text2)"
   ]
  },
  {
   "cell_type": "code",
   "execution_count": null,
   "id": "868e845d",
   "metadata": {},
   "outputs": [],
   "source": [
    "print(f\"Ähnlichkeit zu Text 1: {similarity_to_text1[0][0]}\")\n",
    "print(f\"Ähnlichkeit zu Text 2: {similarity_to_text2[0][0]}\")\n",
    "\n",
    "if similarity_to_text1 > similarity_to_text2:\n",
    "    print(f\"Der neue Text '{neuer_text}' gehört eher zu den Kinder- und Hausmärchen Band 1.\")\n",
    "else:\n",
    "    print(f\"Der neue Text '{neuer_text}' gehört eher zu den Kinder- und Hausmärchen Band 2.\")"
   ]
  },
  {
   "cell_type": "code",
   "execution_count": null,
   "id": "d7ad380a",
   "metadata": {},
   "outputs": [],
   "source": [
    "# Der Text ist also mit einer höheren Wahrscheinlichkeit (wobei die Wahrscheinlichkeiten sich wirklich\n",
    "# nicht sehr unterscheiden, dennoch besteht eine höhere Wahrscheinlichkeit, den Text) zum Band 1 \n",
    "# der Kinder- und Hausmärchen zuzurechnen.\n",
    "# Kann das stimmen?\n",
    "\n",
    "# Wir haben gesehen, dass im Band 1 der Märchensammlung eher junge Menschen thematisiert werden\n",
    "# (erinnern wir uns an die Wortwolke mit dem Begriff Mädchen). Im Band 2 könnte der Fokus eher auf alten Menschen liegen\n",
    "# (erinnern wir uns an die Wortwolke und den Begriff Alte/ alte). \n",
    "# Da in unserem Textauszug von \"unser jung frisch\" die Rede ist, könnte das also stimmen. "
   ]
  },
  {
   "cell_type": "code",
   "execution_count": null,
   "id": "0e112fa5",
   "metadata": {},
   "outputs": [],
   "source": [
    "# Um das schnell tatsächlich zu überprüfen, schauen wir direkt im Werk nach.\n",
    "\n",
    "# Gehe zu https://www.deutschestextarchiv.de/book/show/grimm_maerchen01_1857 \n",
    "# und klicke im Inhaltsverzeichnis das Märchen Nummer 86 an. \n",
    "\n",
    "# Du kommst zum Märchen Der Fuchs und die Gänse. \n",
    "# Wenn du die erste Zeilen liest, siehst du, dass dieses Märchen unser Beispiel ist.\n",
    "\n",
    "# Ich habe diesen Text aus der Sammlung für das Training des Algorithmus herausgenommen.\n",
    "# Unser Algorithmus ordnet das Märchen richtig dem Band 1 der Kinder- und Hausmärchen zu.\n",
    "\n",
    "# Zwar sind die zwei Märchenbände sich sehr ähnlich, da es sich in den Märchen selbst auch um ähnliche Dinge dreht \n",
    "# und der Schreibstil oder die Erzählweisen ähnlich sind,\n",
    "# dennoch arbeitet das Maschinelle Lernen hier für uns - und das korrekt.\n",
    "\n",
    "# Die Ergebnisse werden noch genauer, wenn das Modell angepasst werden würde, was nun aber eine Nacharbeit \n",
    "# in der Vorverarbeitung verlangen würde. \n",
    "# Für den Moment wollen wir es also dabei belassen."
   ]
  },
  {
   "cell_type": "markdown",
   "id": "a3b8cebc",
   "metadata": {},
   "source": [
    "# Super, du hast es geschafft!"
   ]
  },
  {
   "cell_type": "code",
   "execution_count": null,
   "id": "2edb2bae",
   "metadata": {},
   "outputs": [],
   "source": [
    "# Du hast dieses Beispiel erfolgreich durchlaufen und Maschinelles Lernen erprobt.\n",
    "# Kehre nun zum Kurs zurück und rekapituliere das Gelernte."
   ]
  }
 ],
 "metadata": {
  "kernelspec": {
   "display_name": "Python 3 (ipykernel)",
   "language": "python",
   "name": "python3"
  },
  "language_info": {
   "codemirror_mode": {
    "name": "ipython",
    "version": 3
   },
   "file_extension": ".py",
   "mimetype": "text/x-python",
   "name": "python",
   "nbconvert_exporter": "python",
   "pygments_lexer": "ipython3",
   "version": "3.10.9"
  }
 },
 "nbformat": 4,
 "nbformat_minor": 5
}
